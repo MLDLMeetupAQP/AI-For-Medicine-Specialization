{
  "nbformat": 4,
  "nbformat_minor": 0,
  "metadata": {
    "kernelspec": {
      "display_name": "Python 3",
      "language": "python",
      "name": "python3"
    },
    "language_info": {
      "codemirror_mode": {
        "name": "ipython",
        "version": 3
      },
      "file_extension": ".py",
      "mimetype": "text/x-python",
      "name": "python",
      "nbconvert_exporter": "python",
      "pygments_lexer": "ipython3",
      "version": "3.7.6"
    },
    "colab": {
      "name": "C2_W1_lecture_ex_04.ipynb",
      "provenance": []
    }
  },
  "cells": [
    {
      "cell_type": "markdown",
      "metadata": {
        "id": "qVHnsySL1A0D",
        "colab_type": "text"
      },
      "source": [
        "# Course 2 week 1 lecture notebook Exercise 04\n",
        "# Concordance index"
      ]
    },
    {
      "cell_type": "markdown",
      "metadata": {
        "id": "lybmvZLV1A0H",
        "colab_type": "text"
      },
      "source": [
        "In this week's graded assignment, you will implement the concordance index (c-index).  To get some practice with what you've seen in lecture, and to prepare for this week's assignment, you will write code to find permissible pairs, concordant pairs, and risk ties.\n",
        "\n",
        "First start by importing packages and generating a small dataset.  The data is small enough that you can visually check the pairs of patients."
      ]
    },
    {
      "cell_type": "code",
      "metadata": {
        "id": "nXriMZFB1A0M",
        "colab_type": "code",
        "colab": {}
      },
      "source": [
        "# import packages\n",
        "import pandas as pd"
      ],
      "execution_count": 0,
      "outputs": []
    },
    {
      "cell_type": "markdown",
      "metadata": {
        "id": "ga57pKTJ1A0i",
        "colab_type": "text"
      },
      "source": [
        "### Define the outcome `y`\n",
        "\n",
        "- You will let `y` refer to the actual health outcome of the patient.\n",
        "- 1 indicates disease, 0 indicates health (normal)"
      ]
    },
    {
      "cell_type": "code",
      "metadata": {
        "id": "EeQkxSK01A0m",
        "colab_type": "code",
        "colab": {}
      },
      "source": [
        "# define 'y', the outcome of the patient\n",
        "y = pd.Series([0,0,1,1,0])\n",
        "y.name=\"health\"\n",
        "y"
      ],
      "execution_count": 0,
      "outputs": []
    },
    {
      "cell_type": "markdown",
      "metadata": {
        "id": "4NXQaRun1A0z",
        "colab_type": "text"
      },
      "source": [
        "### Define the risk scores\n",
        "Define some risk scores that some model might produce for each patient.  Normally, you would run the patient features through a risk model to create these risk scores.  For practice, you will use the following values in the next cell."
      ]
    },
    {
      "cell_type": "code",
      "metadata": {
        "id": "-Az4XzkQ1A02",
        "colab_type": "code",
        "colab": {}
      },
      "source": [
        "# Define the risk scores for each patient\n",
        "risk_score = pd.Series([2.2, 3.3, 4.4, 4.4])\n",
        "risk_score.name='risk score'\n",
        "risk_score"
      ],
      "execution_count": 0,
      "outputs": []
    },
    {
      "cell_type": "markdown",
      "metadata": {
        "id": "lx67cJSE1A1B",
        "colab_type": "text"
      },
      "source": [
        "### Identify a permissible pair\n",
        "A pair of patients is permissible if their outcomes are different. Use code to compare the labels."
      ]
    },
    {
      "cell_type": "code",
      "metadata": {
        "id": "9E_9G_M01A1E",
        "colab_type": "code",
        "colab": {}
      },
      "source": [
        "# Check patients 0 and 1 make a permissible pair.\n",
        "if y[0] != y[1]:\n",
        "    print(f\"y[0]={y[0]} and y[1]={y[1]} is a permissible pair\")\n",
        "else:\n",
        "    print(f\"y[0]={y[0]} and y[1]={y[1]} is not a permissible pair\")"
      ],
      "execution_count": 0,
      "outputs": []
    },
    {
      "cell_type": "code",
      "metadata": {
        "id": "l4iH19VU1A1g",
        "colab_type": "code",
        "colab": {}
      },
      "source": [
        "# Check if patients 0 and 2 make a permissible pair\n",
        "if y[0] != y[2]:\n",
        "    print(f\"y[0]={y[0]} and y[2]={y[2]} is a permissible pair\")\n",
        "else:\n",
        "    print(f\"y[0]={y[0]} and y[2]={y[2]} is NOT permissible pair\")"
      ],
      "execution_count": 0,
      "outputs": []
    },
    {
      "cell_type": "markdown",
      "metadata": {
        "id": "GaBIxpcg1A1v",
        "colab_type": "text"
      },
      "source": [
        "### Check for risk ties\n",
        "- For permissible pairs, check if they have the same risk score"
      ]
    },
    {
      "cell_type": "code",
      "metadata": {
        "id": "hDvy-2Uw1A1y",
        "colab_type": "code",
        "colab": {}
      },
      "source": [
        "# Check if patients 2 and 3 make a risk tie\n",
        "if risk_score[2] == risk_score[3]:\n",
        "    print(f\"patient 2 ({risk_score[2]}) and patient 3 ({risk_score[3]}) have a risk tie\")\n",
        "else:\n",
        "    print(f\"patient 2 ({risk_score[2]}) and patient 3 ({risk_score[3]}) DO NOT have a risk tie\")"
      ],
      "execution_count": 0,
      "outputs": []
    },
    {
      "cell_type": "markdown",
      "metadata": {
        "id": "q-upvd321A19",
        "colab_type": "text"
      },
      "source": [
        "### Concordant pairs\n",
        "- Check if a permissible pair is also a concordant pair\n",
        "- You'll check one case, where the first patient is healthy and the second has the disease."
      ]
    },
    {
      "cell_type": "code",
      "metadata": {
        "id": "6tRIMIrb1A1-",
        "colab_type": "code",
        "colab": {}
      },
      "source": [
        "# Check if patient 1 and 2 make a concordant pair\n",
        "if y[1] == 0 and y[2] == 1:\n",
        "    if risk_score[1] < risk_score[2]:\n",
        "        print(f\"patient 1 and 2 is a concordant pair\")"
      ],
      "execution_count": 0,
      "outputs": []
    },
    {
      "cell_type": "markdown",
      "metadata": {
        "id": "I_w9v7DQ1A2H",
        "colab_type": "text"
      },
      "source": [
        "- Note that you checked the situation where patient 1 is healthy and patient 2 has the disease.\n",
        "- You should also check the other situation where patient 1 has the disease and patient 2 is healthy.\n",
        "\n",
        "You'll practice implementing the complete algorithm for c-index in this week's assignment!"
      ]
    },
    {
      "cell_type": "markdown",
      "metadata": {
        "id": "ATQmfhR81A2K",
        "colab_type": "text"
      },
      "source": [
        "### This is the end of this practice section.\n",
        "\n",
        "Please continue on with the lecture videos!\n",
        "\n",
        "---"
      ]
    }
  ]
}