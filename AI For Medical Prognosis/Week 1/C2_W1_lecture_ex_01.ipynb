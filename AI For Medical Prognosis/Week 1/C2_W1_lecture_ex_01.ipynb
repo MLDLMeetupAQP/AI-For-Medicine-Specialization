{
  "nbformat": 4,
  "nbformat_minor": 0,
  "metadata": {
    "kernelspec": {
      "display_name": "Python 3",
      "language": "python",
      "name": "python3"
    },
    "language_info": {
      "codemirror_mode": {
        "name": "ipython",
        "version": 3
      },
      "file_extension": ".py",
      "mimetype": "text/x-python",
      "name": "python",
      "nbconvert_exporter": "python",
      "pygments_lexer": "ipython3",
      "version": "3.7.6"
    },
    "colab": {
      "name": "C2_W1_lecture_ex_01.ipynb",
      "provenance": []
    }
  },
  "cells": [
    {
      "cell_type": "markdown",
      "metadata": {
        "id": "w4vaTKm20YIa",
        "colab_type": "text"
      },
      "source": [
        "# Course 2 week 1 lecture notebook 01\n",
        "# Create a Linear Model"
      ]
    },
    {
      "cell_type": "markdown",
      "metadata": {
        "id": "y7vW-ioa0YIe",
        "colab_type": "text"
      },
      "source": [
        "## Linear model using scikit-learn\n",
        "\n",
        "We'll practice using a scikit-learn model for linear regression. You will do something similar in this week's assignment (but with a logistic regression model).\n",
        "\n",
        "[sklearn.linear_model.LinearRegression()](https://scikit-learn.org/stable/modules/generated/sklearn.linear_model.LinearRegression.html)"
      ]
    },
    {
      "cell_type": "markdown",
      "metadata": {
        "id": "HeDEqNTm0YIj",
        "colab_type": "text"
      },
      "source": [
        "First, import `LinearRegression`, which is a Python 'class'."
      ]
    },
    {
      "cell_type": "code",
      "metadata": {
        "id": "G9esZLaJ0YIn",
        "colab_type": "code",
        "colab": {}
      },
      "source": [
        "# Import the module 'LinearRegression' from sklearn\n",
        "from sklearn.linear_model import LinearRegression"
      ],
      "execution_count": 0,
      "outputs": []
    },
    {
      "cell_type": "markdown",
      "metadata": {
        "id": "Fr8CLuDR0YI9",
        "colab_type": "text"
      },
      "source": [
        "Next, use the class to create an object of type LinearRegression."
      ]
    },
    {
      "cell_type": "code",
      "metadata": {
        "id": "HwikELxt0YI_",
        "colab_type": "code",
        "colab": {}
      },
      "source": [
        "# Create an object of type LinearRegression\n",
        "model = LinearRegression()\n",
        "model"
      ],
      "execution_count": 0,
      "outputs": []
    },
    {
      "cell_type": "markdown",
      "metadata": {
        "id": "ZlAKqjsU0YJN",
        "colab_type": "text"
      },
      "source": [
        "Generate some data by importing a module 'load_data', which is implemented for you.  The features in `X' are: \n",
        "\n",
        "- Age: (years)\n",
        "- Systolic_BP: Systolic blood pressure (mmHg)\n",
        "- Diastolic_BP: Diastolic blood pressure (mmHg)\n",
        "- Cholesterol: (mg/DL)\n",
        "\n",
        "The labels in `y` indicate whether the patient has a disease (diabetic retinopathy).\n",
        "- y = 1 : patient has retinopathy.\n",
        "- y = 0 : patient does not have retinopathy."
      ]
    },
    {
      "cell_type": "code",
      "metadata": {
        "id": "bRvnPlAr0YJQ",
        "colab_type": "code",
        "colab": {}
      },
      "source": [
        "# Import the load_data function from the utils module\n",
        "from utils import load_data"
      ],
      "execution_count": 0,
      "outputs": []
    },
    {
      "cell_type": "code",
      "metadata": {
        "id": "HCSKLS390YJb",
        "colab_type": "code",
        "colab": {}
      },
      "source": [
        "# Generate features and labels using the imported function\n",
        "X, y = load_data(100)"
      ],
      "execution_count": 0,
      "outputs": []
    },
    {
      "cell_type": "markdown",
      "metadata": {
        "id": "J9aOdBx10YJo",
        "colab_type": "text"
      },
      "source": [
        "Explore the data by viewing the features and the labels"
      ]
    },
    {
      "cell_type": "code",
      "metadata": {
        "id": "oHkoHAg60YJs",
        "colab_type": "code",
        "colab": {}
      },
      "source": [
        "# View the features\n",
        "X.head()"
      ],
      "execution_count": 0,
      "outputs": []
    },
    {
      "cell_type": "code",
      "metadata": {
        "id": "4xqAnhjS0YJ7",
        "colab_type": "code",
        "colab": {}
      },
      "source": [
        "# Plot a histogram of the Age feature\n",
        "X['Age'].hist();"
      ],
      "execution_count": 0,
      "outputs": []
    },
    {
      "cell_type": "code",
      "metadata": {
        "id": "OsKZdHss0YKG",
        "colab_type": "code",
        "colab": {}
      },
      "source": [
        "# Plot a histogram of the systolic blood pressure feature\n",
        "X['Systolic_BP'].hist();"
      ],
      "execution_count": 0,
      "outputs": []
    },
    {
      "cell_type": "code",
      "metadata": {
        "id": "pNX1M4A40YKP",
        "colab_type": "code",
        "colab": {}
      },
      "source": [
        "# Plot a histogram of the diastolic blood pressure feature\n",
        "X['Diastolic_BP'].hist();"
      ],
      "execution_count": 0,
      "outputs": []
    },
    {
      "cell_type": "code",
      "metadata": {
        "id": "aKELR5dj0YKa",
        "colab_type": "code",
        "colab": {}
      },
      "source": [
        "# Plot a histogram of the cholesterol feature\n",
        "X['Cholesterol'].hist();"
      ],
      "execution_count": 0,
      "outputs": []
    },
    {
      "cell_type": "markdown",
      "metadata": {
        "id": "hs6iO0sh0YKk",
        "colab_type": "text"
      },
      "source": [
        "Also take a look at the labels"
      ]
    },
    {
      "cell_type": "code",
      "metadata": {
        "id": "Si1Sjjmr0YKm",
        "colab_type": "code",
        "colab": {}
      },
      "source": [
        "# View a few values of the labels\n",
        "y.head()"
      ],
      "execution_count": 0,
      "outputs": []
    },
    {
      "cell_type": "code",
      "metadata": {
        "id": "qjVbR2dm0YKz",
        "colab_type": "code",
        "colab": {}
      },
      "source": [
        "# Plot a histogram of the labels\n",
        "y.hist();"
      ],
      "execution_count": 0,
      "outputs": []
    },
    {
      "cell_type": "markdown",
      "metadata": {
        "id": "UVE0wNEo0YLD",
        "colab_type": "text"
      },
      "source": [
        "Fit the LinearRegression using the features in `X` and the labels in `y`.  To \"fit\" the model is another way of saying that we are training the model on the data."
      ]
    },
    {
      "cell_type": "code",
      "metadata": {
        "id": "8knrrdGt0YLI",
        "colab_type": "code",
        "colab": {}
      },
      "source": [
        "# Fit the linear regression model\n",
        "model.fit(X, y)\n",
        "model"
      ],
      "execution_count": 0,
      "outputs": []
    },
    {
      "cell_type": "markdown",
      "metadata": {
        "id": "WjhM_Im20YLU",
        "colab_type": "text"
      },
      "source": [
        "- View the coefficients of the trained model.\n",
        "- The coefficients are the 'weights' or $\\beta$s associated with each feature\n",
        "- You'll use the coefficients for making predictions.\n",
        "$$\\hat{y} = \\beta_1x_1 + \\beta_2x_2 + ... \\beta_N x_N$$"
      ]
    },
    {
      "cell_type": "code",
      "metadata": {
        "id": "4yjByuqB0YLV",
        "colab_type": "code",
        "colab": {}
      },
      "source": [
        "# View the coefficients of the model\n",
        "model.coef_"
      ],
      "execution_count": 0,
      "outputs": []
    },
    {
      "cell_type": "markdown",
      "metadata": {
        "id": "WzgDtRQD0YLh",
        "colab_type": "text"
      },
      "source": [
        "In the assignment, you will do something similar, but using a logistic regression, so that the output of the prediction will be bounded between 0 and 1."
      ]
    },
    {
      "cell_type": "markdown",
      "metadata": {
        "id": "mVzae0BL0YLj",
        "colab_type": "text"
      },
      "source": [
        "### This is the end of this practice section.\n",
        "\n",
        "Please continue on with the lecture videos!\n",
        "\n",
        "---"
      ]
    }
  ]
}