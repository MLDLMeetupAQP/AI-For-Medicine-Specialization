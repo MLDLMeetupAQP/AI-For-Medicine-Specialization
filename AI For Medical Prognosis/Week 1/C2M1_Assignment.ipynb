{
 "cells": [
  {
   "cell_type": "markdown",
   "metadata": {},
   "source": [
    "# Build and Evaluate a Linear Risk model\n",
    "\n",
    "Welcome to the first assignment in Course 2!\n"
   ]
  },
  {
   "cell_type": "markdown",
   "metadata": {},
   "source": [
    "## Outline\n",
    "\n",
    "- [1. Import Packages](#1)\n",
    "- [2. Load Data](#2)\n",
    "- [3. Explore the Dataset](#3)\n",
    "- [4. Mean-Normalize the Data](#4)\n",
    "    - [Exercise 1](#Ex-1)\n",
    "- [5. Build the Model](#Ex-2)\n",
    "    - [Exercise 2](#Ex-2)\n",
    "- [6. Evaluate the Model Using the C-Index](#6)\n",
    "    - [Exercise 3](#Ex-3)\n",
    "- [7. Evaluate the Model on the Test Set](#7)\n",
    "- [8. Improve the Model](#8)\n",
    "    - [Exercise 4](#Ex-4)\n",
    "- [9. Evalute the Improved Model](#9)"
   ]
  },
  {
   "cell_type": "markdown",
   "metadata": {
    "colab_type": "text",
    "id": "DU20mFeib5Kd"
   },
   "source": [
    "## Overview of the Assignment\n",
    "\n",
    "In this assignment, you'll build a risk score model for retinopathy in diabetes patients using logistic regression.\n",
    "\n",
    "As we develop the model, we will learn about the following topics:\n",
    "\n",
    "- Data preprocessing\n",
    "  - Log transformations\n",
    "  - Standardization\n",
    "- Basic Risk Models\n",
    "  - Logistic Regression\n",
    "  - C-index\n",
    "  - Interactions Terms\n",
    "  \n",
    "### Diabetic Retinopathy\n",
    "Retinopathy is an eye condition that causes changes to the blood vessels in the part of the eye called the retina.\n",
    "This often leads to vision changes or blindness.\n",
    "Diabetic patients are known to be at high risk for retinopathy. \n",
    "    \n",
    "### Logistic Regression    \n",
    "Logistic regression is an appropriate analysis to use for predicting the probability of a binary outcome. In our case, this would be the probability of having or not having diabetic retinopathy.\n",
    "Logistic Regression is one of the most commonly used algorithms for binary classification. It is used to find the best fitting model to describe the relationship between a set of features (also referred to as input, independent, predictor, or explanatory variables) and a binary outcome label (also referred to as an output, dependent, or response variable). Logistic regression has the property that the output prediction is always in the range $[0,1]$. Sometimes this output is used to represent a probability from 0%-100%, but for straight binary classification, the output is converted to either $0$ or $1$ depending on whether it is below or above a certain threshold, usually $0.5$.\n",
    "\n",
    "It may be  confusing that the term regression appears in the name even though logistic regression is actually a classification algorithm, but that's just a name it was given for historical reasons."
   ]
  },
  {
   "cell_type": "markdown",
   "metadata": {
    "colab_type": "text",
    "id": "pzuRKOt1cU8B"
   },
   "source": [
    "<a name='1'></a>\n",
    "## 1.  Import Packages\n",
    "\n",
    "We'll first import all the packages that we need for this assignment. \n",
    "\n",
    "- `numpy` is the fundamental package for scientific computing in python.\n",
    "- `pandas` is what we'll use to manipulate our data.\n",
    "- `matplotlib` is a plotting library."
   ]
  },
  {
   "cell_type": "code",
   "execution_count": null,
   "metadata": {
    "colab": {},
    "colab_type": "code",
    "id": "qHjB-KVmwmtR"
   },
   "outputs": [],
   "source": [
    "import numpy as np\n",
    "import pandas as pd\n",
    "import matplotlib.pyplot as plt"
   ]
  },
  {
   "cell_type": "markdown",
   "metadata": {
    "colab_type": "text",
    "id": "3J7NXuQadLnY"
   },
   "source": [
    "<a name='2'></a>\n",
    "## 2. Load Data\n",
    "\n",
    "First we will load in the dataset that we will use for training and testing our model.\n",
    "\n",
    "* Run the next cell to load the data using a function imported from our local utils module."
   ]
  },
  {
   "cell_type": "code",
   "execution_count": null,
   "metadata": {
    "colab": {},
    "colab_type": "code",
    "id": "FN5Y5hU5yXnE"
   },
   "outputs": [],
   "source": [
    "from utils import load_data\n",
    "\n",
    "# This function creates randomly generated data\n",
    "# X, y = load_data(6000)\n",
    "\n",
    "# For stability, load data from files that were generated using the load_data\n",
    "X = pd.read_csv('X_data.csv',index_col=0)\n",
    "y_df = pd.read_csv('y_data.csv',index_col=0)\n",
    "y = y_df['y']"
   ]
  },
  {
   "cell_type": "markdown",
   "metadata": {
    "colab_type": "text",
    "id": "5yF06E6sZMmD"
   },
   "source": [
    "`X` and `y` are Pandas DataFrames that hold the data for 6,000 diabetic patients. "
   ]
  },
  {
   "cell_type": "markdown",
   "metadata": {},
   "source": [
    "<a name='3'></a>\n",
    "##  3. Explore the Dataset\n",
    "\n",
    "The features (`X`) include the following fields:\n",
    "* Age: (years)\n",
    "* Systolic_BP: Systolic blood pressure (mmHg)\n",
    "* Diastolic_BP: Diastolic blood pressure (mmHg)\n",
    "* Cholesterol: (mg/DL)\n",
    "    \n",
    "We can use the `head()` method to display the first few records of each.    "
   ]
  },
  {
   "cell_type": "code",
   "execution_count": null,
   "metadata": {
    "colab": {
     "base_uri": "https://localhost:8080/",
     "height": 204
    },
    "colab_type": "code",
    "id": "qp1SgI7PT024",
    "outputId": "3ff454c2-65fb-4fea-858a-647c7a5d750d"
   },
   "outputs": [],
   "source": [
    "X.head()"
   ]
  },
  {
   "cell_type": "markdown",
   "metadata": {
    "colab_type": "text",
    "id": "Q0o8DaDayXnM"
   },
   "source": [
    "The target (`y`) is an indicator of whether or not the patient developed retinopathy.\n",
    "\n",
    "* y = 1 : patient has retinopathy.\n",
    "* y = 0 : patient does not have retinopathy."
   ]
  },
  {
   "cell_type": "code",
   "execution_count": null,
   "metadata": {
    "colab": {
     "base_uri": "https://localhost:8080/",
     "height": 119
    },
    "colab_type": "code",
    "id": "2d6L8BHO3-QJ",
    "outputId": "1b58dfe9-178e-491d-e2cb-738b083a1db7"
   },
   "outputs": [],
   "source": [
    "y.head()"
   ]
  },
  {
   "cell_type": "markdown",
   "metadata": {
    "colab_type": "text",
    "id": "DAobb_-hFtAn"
   },
   "source": [
    "Before we build a model, let's take a closer look at the distribution of our training data. To do this, we will split the data into train and test sets using a 75/25 split.\n",
    "\n",
    "For this, we can use the built in function provided by sklearn library.  See the documentation for [sklearn.model_selection.train_test_split](https://scikit-learn.org/stable/modules/generated/sklearn.model_selection.train_test_split.html). "
   ]
  },
  {
   "cell_type": "code",
   "execution_count": null,
   "metadata": {
    "colab": {},
    "colab_type": "code",
    "id": "C9FxG6hDyXnQ"
   },
   "outputs": [],
   "source": [
    "from sklearn.model_selection import train_test_split"
   ]
  },
  {
   "cell_type": "code",
   "execution_count": null,
   "metadata": {
    "colab": {},
    "colab_type": "code",
    "id": "1fvqevMtFsHh"
   },
   "outputs": [],
   "source": [
    "X_train_raw, X_test_raw, y_train, y_test = train_test_split(X, y, train_size=0.75, random_state=0)"
   ]
  },
  {
   "cell_type": "markdown",
   "metadata": {
    "colab_type": "text",
    "id": "nYgcS0vjdbpc"
   },
   "source": [
    "Plot the histograms of each column of `X_train` below: "
   ]
  },
  {
   "cell_type": "code",
   "execution_count": null,
   "metadata": {
    "colab": {
     "base_uri": "https://localhost:8080/",
     "height": 1000
    },
    "colab_type": "code",
    "id": "EBckdYHyUudi",
    "outputId": "2e987230-a0eb-40d1-f3a6-ac943cbedf4d"
   },
   "outputs": [],
   "source": [
    "for col in X.columns:\n",
    "    X_train_raw.loc[:, col].hist()\n",
    "    plt.title(col)\n",
    "    plt.show()"
   ]
  },
  {
   "cell_type": "markdown",
   "metadata": {},
   "source": [
    "As we can see, the distributions have a generally bell shaped distribution, but with slight rightward skew.\n",
    "\n",
    "Many statistical models assume that the data is normally distributed, forming a symmetric Gaussian bell shape (with no skew) more like the example below."
   ]
  },
  {
   "cell_type": "code",
   "execution_count": null,
   "metadata": {},
   "outputs": [],
   "source": [
    "from scipy.stats import norm\n",
    "data = np.random.normal(50,12, 5000)\n",
    "fitting_params = norm.fit(data)\n",
    "norm_dist_fitted = norm(*fitting_params)\n",
    "t = np.linspace(0,100, 100)\n",
    "plt.hist(data, bins=60, density=True)\n",
    "plt.plot(t, norm_dist_fitted.pdf(t))\n",
    "plt.title('Example of Normally Distributed Data')\n",
    "plt.show()"
   ]
  },
  {
   "cell_type": "markdown",
   "metadata": {
    "colab_type": "text",
    "id": "jhZ3UKs3U-FG"
   },
   "source": [
    "We can transform our data to be closer to a normal distribution by removing the skew. One way to remove the skew is by applying the log function to the data.\n",
    "\n",
    "Let's plot the log of the feature variables to see that it produces the desired effect."
   ]
  },
  {
   "cell_type": "code",
   "execution_count": null,
   "metadata": {
    "colab": {
     "base_uri": "https://localhost:8080/",
     "height": 1000
    },
    "colab_type": "code",
    "id": "r3fiFAipU9nm",
    "outputId": "c46e9627-4db9-4992-8736-ba974ffadde0"
   },
   "outputs": [],
   "source": [
    "for col in X_train_raw.columns:\n",
    "    np.log(X_train_raw.loc[:, col]).hist()\n",
    "    plt.title(col)\n",
    "    plt.show()"
   ]
  },
  {
   "cell_type": "markdown",
   "metadata": {
    "colab_type": "text",
    "id": "84vqBnYZT80j"
   },
   "source": [
    "We can see that the data is more symmetric after taking the log."
   ]
  },
  {
   "cell_type": "markdown",
   "metadata": {
    "colab_type": "text",
    "id": "gnj1zUmaG94h"
   },
   "source": [
    "<a name='4'></a>\n",
    "## 4. Mean-Normalize the Data\n",
    "\n",
    "Let's now transform our data so that the distributions are closer to standard normal distributions.\n",
    "\n",
    "First we will remove some of the skew from the distribution by using the log transformation.\n",
    "Then we will \"standardize\" the distribution so that it has a mean of zero and standard deviation of 1. Recall that a standard normal distribution has mean of zero and standard deviation of 1. \n"
   ]
  },
  {
   "cell_type": "markdown",
   "metadata": {},
   "source": [
    "<a name='Ex-1'></a>\n",
    "### Exercise 1\n",
    "* Write a function that first removes some of the skew in the data, and then standardizes the distribution so that for each data point $x$,\n",
    "$$\\overline{x} = \\frac{x - mean(x)}{std(x)}$$\n",
    "* Keep in mind that we want to pretend that the test data is \"unseen\" data. \n",
    "    * This implies that it is unavailable to us for the purpose of preparing our data, and so we do not want to consider it when evaluating the mean and standard deviation that we use in the above equation. Instead we want to calculate these values using the training data alone, but then use them for standardizing both the training and the test data.\n",
    "    * For a further discussion on the topic, see this article [\"Why do we need to re-use training parameters to transform test data\"](https://sebastianraschka.com/faq/docs/scale-training-test.html). "
   ]
  },
  {
   "cell_type": "markdown",
   "metadata": {},
   "source": [
    "#### Note\n",
    "- For the sample standard deviation, please calculate the unbiased estimator:\n",
    "$$s = \\sqrt{\\frac{\\sum_{i=1}^n(x_{i} - \\bar{x})^2}{n-1}}$$\n",
    "- In other words, if you numpy, set the degrees of freedom `ddof` to 1.\n",
    "- For pandas, the default `ddof` is already set to 1."
   ]
  },
  {
   "cell_type": "markdown",
   "metadata": {},
   "source": [
    "<details>    \n",
    "<summary>\n",
    "    <font size=\"3\" color=\"darkgreen\"><b>Hints</b></font>\n",
    "</summary>\n",
    "<p>\n",
    "    <ul>\n",
    "        <li> When working with Pandas DataFrames, you can use the aggregation functions <code>mean</code> and <code>std</code> functions. Note that in order to apply an aggregation function separately for each row or each column, you'll set the axis parameter to either <code>0</code> or <code>1</code>. One produces the aggregation along columns and the other along rows, but it is easy to get them confused. So experiment with each option below to see which one you should use to get an average for each column in the dataframe.\n",
    "<code>\n",
    "avg = df.mean(axis=0)\n",
    "avg = df.mean(axis=1) \n",
    "</code>\n",
    "        </li>\n",
    "        <br></br>\n",
    "    <li>Remember to use <b>training</b> data statistics when standardizing both the training and the test data.</li>\n",
    "    </ul>\n",
    "</p>\n",
    "</details> "
   ]
  },
  {
   "cell_type": "code",
   "execution_count": null,
   "metadata": {
    "colab": {},
    "colab_type": "code",
    "id": "wwqPOiZGRfhv"
   },
   "outputs": [],
   "source": [
    "# UNQ_C1 (UNIQUE CELL IDENTIFIER, DO NOT EDIT)\n",
    "def make_standard_normal(df_train, df_test):\n",
    "    \"\"\"\n",
    "    In order to make the data closer to a normal distribution, take log\n",
    "    transforms to reduce the skew.\n",
    "    Then standardize the distribution with a mean of zero and standard deviation of 1. \n",
    "  \n",
    "    Args:\n",
    "      df_train (dataframe): unnormalized training data.\n",
    "      df_test (dataframe): unnormalized test data.\n",
    "  \n",
    "    Returns:\n",
    "      df_train_normalized (dateframe): normalized training data.\n",
    "      df_test_normalized (dataframe): normalized test data.\n",
    "    \"\"\"\n",
    "    \n",
    "    ### START CODE HERE (REPLACE INSTANCES OF 'None' with your code) ###  \n",
    "    # Remove skew by applying the log function to the train set, and to the test set\n",
    "    df_train_unskewed = None\n",
    "    df_test_unskewed = None\n",
    "    \n",
    "    #calculate the mean and standard deviation of the training set\n",
    "    mean = None\n",
    "    stdev = None\n",
    "    \n",
    "    # standardize the training set\n",
    "    df_train_standardized = None\n",
    "    \n",
    "    # standardize the test set (see instructions and hints above)\n",
    "    df_test_standardized = None\n",
    "    \n",
    "    ### END CODE HERE ###\n",
    "    return df_train_standardized, df_test_standardized"
   ]
  },
  {
   "cell_type": "markdown",
   "metadata": {
    "colab_type": "text",
    "id": "9ohs6TqjUEHU"
   },
   "source": [
    "#### Test Your Work"
   ]
  },
  {
   "cell_type": "code",
   "execution_count": null,
   "metadata": {},
   "outputs": [],
   "source": [
    "# test\n",
    "tmp_train = pd.DataFrame({'field1': [1,2,10], 'field2': [4,5,11]})\n",
    "tmp_test = pd.DataFrame({'field1': [1,3,10], 'field2': [4,6,11]})\n",
    "tmp_train_transformed, tmp_test_transformed = make_standard_normal(tmp_train,tmp_test)\n",
    "\n",
    "print(f\"Training set transformed field1 has mean {tmp_train_transformed['field1'].mean(axis=0):.4f} and standard deviation {tmp_train_transformed['field1'].std(axis=0):.4f} \")\n",
    "print(f\"Test set transformed, field1 has mean {tmp_test_transformed['field1'].mean(axis=0):.4f} and standard deviation {tmp_test_transformed['field1'].std(axis=0):.4f}\")\n",
    "print(f\"Skew of training set field1 before transformation: {tmp_train['field1'].skew(axis=0):.4f}\")\n",
    "print(f\"Skew of training set field1 after transformation: {tmp_train_transformed['field1'].skew(axis=0):.4f}\")\n",
    "print(f\"Skew of test set field1 before transformation: {tmp_test['field1'].skew(axis=0):.4f}\")\n",
    "print(f\"Skew of test set field1 after transformation: {tmp_test_transformed['field1'].skew(axis=0):.4f}\")"
   ]
  },
  {
   "cell_type": "markdown",
   "metadata": {
    "colab_type": "text",
    "id": "XpqHiFfwyXne"
   },
   "source": [
    "#### Expected Output:\n",
    "```CPP\n",
    "Training set transformed field1 has mean -0.0000 and standard deviation 1.0000 \n",
    "Test set transformed, field1 has mean 0.1144 and standard deviation 0.9749\n",
    "Skew of training set field1 before transformation: 1.6523\n",
    "Skew of training set field1 after transformation: 1.0857\n",
    "Skew of test set field1 before transformation: 1.3896\n",
    "Skew of test set field1 after transformation: 0.1371\n",
    "```"
   ]
  },
  {
   "cell_type": "markdown",
   "metadata": {
    "colab_type": "text",
    "id": "gran7yoORxQ9"
   },
   "source": [
    "#### Transform training and test data \n",
    "Use the function that you just implemented to make the data distribution closer to a standard normal distribution."
   ]
  },
  {
   "cell_type": "code",
   "execution_count": null,
   "metadata": {
    "colab": {},
    "colab_type": "code",
    "id": "DDC2ThP_K3Ea"
   },
   "outputs": [],
   "source": [
    "X_train, X_test = make_standard_normal(X_train_raw, X_test_raw)"
   ]
  },
  {
   "cell_type": "markdown",
   "metadata": {
    "colab_type": "text",
    "id": "TnmdKuXDyXnk"
   },
   "source": [
    "After transforming the training and test sets, we'll expect the training set to be centered at zero with a standard deviation of $1$.\n",
    "\n",
    "We will avoid observing the test set during model training in order to avoid biasing the model training process, but let's have a look at the distributions of the transformed training data."
   ]
  },
  {
   "cell_type": "code",
   "execution_count": null,
   "metadata": {
    "colab": {
     "base_uri": "https://localhost:8080/",
     "height": 1000
    },
    "colab_type": "code",
    "id": "WUYtMPVyyXnk",
    "outputId": "213ebd54-8d2b-4317-9f78-d946bd7fff49"
   },
   "outputs": [],
   "source": [
    "for col in X_train.columns:\n",
    "    X_train[col].hist()\n",
    "    plt.title(col)\n",
    "    plt.show()"
   ]
  },
  {
   "cell_type": "markdown",
   "metadata": {
    "colab_type": "text",
    "id": "ovLMYBz6dteZ"
   },
   "source": [
    "<a name='5'></a>\n",
    "## 5. Build the Model\n",
    "\n",
    "Now we are ready to build the risk model by training logistic regression with our data.\n"
   ]
  },
  {
   "cell_type": "markdown",
   "metadata": {},
   "source": [
    "<a name='Ex-2'></a>\n",
    "### Exercise 2\n",
    "\n",
    "* Implement the `lr_model` function to build a model using logistic regression with the `LogisticRegression` class from `sklearn`. \n",
    "* See the documentation for [sklearn.linear_model.LogisticRegression](https://scikit-learn.org/stable/modules/generated/sklearn.linear_model.LogisticRegression.html#sklearn.linear_model.LogisticRegression.fit)."
   ]
  },
  {
   "cell_type": "markdown",
   "metadata": {},
   "source": [
    "<details>    \n",
    "<summary>\n",
    "    <font size=\"3\" color=\"darkgreen\"><b>Hints</b></font>\n",
    "</summary>\n",
    "<p>\n",
    "    <ul>\n",
    "        <li>You can leave all the parameters to their default values when constructing an instance of the <code>sklearn.linear_model.LogisticRegression</code> class. If you get a warning message regarding the <code>solver</code> parameter, however, you may want to specify that particular one explicitly with <code>solver='lbfgs'</code>. \n",
    "        </li>\n",
    "        <br></br>\n",
    "    </ul>\n",
    "</p>\n",
    "</details> "
   ]
  },
  {
   "cell_type": "code",
   "execution_count": null,
   "metadata": {
    "colab": {},
    "colab_type": "code",
    "id": "iLvr0IgoyXnz"
   },
   "outputs": [],
   "source": [
    "# UNQ_C2 (UNIQUE CELL IDENTIFIER, DO NOT EDIT)\n",
    "def lr_model(X_train, y_train):\n",
    "    \n",
    "    ### START CODE HERE (REPLACE INSTANCES OF 'None' with your code) ###\n",
    "    # import the LogisticRegression class\n",
    "    from None import None\n",
    "    \n",
    "    # create the model object\n",
    "    model = None\n",
    "    \n",
    "    # fit the model to the training data\n",
    "    None\n",
    "    \n",
    "    ### END CODE HERE ###\n",
    "    #return the fitted model\n",
    "    return model"
   ]
  },
  {
   "cell_type": "markdown",
   "metadata": {},
   "source": [
    "#### Test Your Work\n",
    "\n",
    "Note: the `predict` method returns the model prediction *after* converting it from a value in the $[0,1]$ range to a $0$ or $1$ depending on whether it is below or above $0.5$."
   ]
  },
  {
   "cell_type": "code",
   "execution_count": null,
   "metadata": {
    "colab": {
     "base_uri": "https://localhost:8080/",
     "height": 198
    },
    "colab_type": "code",
    "id": "9Fr-HA-TyXnv",
    "outputId": "68ba88ab-be91-4543-8c2c-481bdb3a3f84"
   },
   "outputs": [],
   "source": [
    "# Test\n",
    "tmp_model = lr_model(X_train[0:3], y_train[0:3] )\n",
    "print(tmp_model.predict(X_train[4:5]))\n",
    "print(tmp_model.predict(X_train[5:6]))"
   ]
  },
  {
   "cell_type": "markdown",
   "metadata": {
    "colab_type": "text",
    "id": "LpafSX3tyXny"
   },
   "source": [
    "#### Expected Output:\n",
    "```CPP\n",
    "[1.]\n",
    "[0.]\n",
    "```"
   ]
  },
  {
   "cell_type": "markdown",
   "metadata": {
    "colab_type": "text",
    "id": "FhuY1GjlyXn1"
   },
   "source": [
    "Now that we've tested our model, we can go ahead and build it. Note that the `lr_model` function also fits  the model to the training data."
   ]
  },
  {
   "cell_type": "code",
   "execution_count": null,
   "metadata": {
    "colab": {},
    "colab_type": "code",
    "id": "sG6nr4hCyXn2"
   },
   "outputs": [],
   "source": [
    "model_X = lr_model(X_train, y_train)"
   ]
  },
  {
   "cell_type": "markdown",
   "metadata": {
    "colab_type": "text",
    "id": "YI34GRSgeAaL"
   },
   "source": [
    "<a name='6'></a>\n",
    "## 6. Evaluate the Model Using the C-index\n",
    "\n",
    "Now that we have a model, we need to evaluate it. We'll do this using the c-index. \n",
    "* The c-index measures the discriminatory power of a risk score. \n",
    "* Intuitively, a higher c-index indicates that the model's prediction is in agreement with the actual outcomes of a pair of patients.\n",
    "* The formula for the c-index is\n",
    "\n",
    "$$ \\mbox{cindex} = \\frac{\\mbox{concordant} + 0.5 \\times \\mbox{ties}}{\\mbox{permissible}} $$\n",
    "\n",
    "* A permissible pair is a pair of patients who have different outcomes.\n",
    "* A concordant pair is a permissible pair in which the patient with the higher risk score also has the worse outcome.\n",
    "* A tie is a permissible pair where the patients have the same risk score.\n"
   ]
  },
  {
   "cell_type": "markdown",
   "metadata": {},
   "source": [
    "<a name='Ex-3'></a>\n",
    "### Exercise 3\n",
    "\n",
    "* Implement the `cindex` function to compute c-index.\n",
    "* `y_true` is the array of actual patient outcomes, 0 if the patient does not eventually get the disease, and 1 if the patient eventually gets the disease.\n",
    "* `scores` is the risk score of each patient.  These provide relative measures of risk, so they can be any real numbers. By convention, they are always non-negative.\n",
    "* Here is an example of input data and how to interpret it:\n",
    "```Python\n",
    "y_true = [0,1]\n",
    "scores = [0.45, 1.25]\n",
    "```\n",
    "    * There are two patients. Index 0 of each array is associated with patient 0.  Index 1 is associated with patient 1.\n",
    "    * Patient 0 does not have the disease in the future (`y_true` is 0), and based on past information, has a risk score of 0.45.\n",
    "    * Patient 1 has the disease at some point in the future (`y_true` is 1), and based on past information, has a risk score of 1.25."
   ]
  },
  {
   "cell_type": "code",
   "execution_count": null,
   "metadata": {
    "colab": {},
    "colab_type": "code",
    "id": "a6fzYxG0R7Sp"
   },
   "outputs": [],
   "source": [
    "# UNQ_C3 (UNIQUE CELL IDENTIFIER, DO NOT EDIT)\n",
    "def cindex(y_true, scores):\n",
    "    '''\n",
    "\n",
    "    Input:\n",
    "    y_true (np.array): a 1-D array of true binary outcomes (values of zero or one)\n",
    "        0: patient does not get the disease\n",
    "        1: patient does get the disease\n",
    "    scores (np.array): a 1-D array of corresponding risk scores output by the model\n",
    "\n",
    "    Output:\n",
    "    c_index (float): (concordant pairs + 0.5*ties) / number of permissible pairs\n",
    "    '''\n",
    "    n = len(y_true)\n",
    "    assert len(scores) == n\n",
    "\n",
    "    concordant = 0\n",
    "    permissible = 0\n",
    "    ties = 0\n",
    "    \n",
    "    ### START CODE HERE (REPLACE INSTANCES OF 'None' with your code) ###\n",
    "    # use two nested for loops to go through all unique pairs of patients\n",
    "    for i in range(n):\n",
    "        for j in range(None, n): #choose the range of j so that j>i\n",
    "            \n",
    "            # Check if the pair is permissible (the patient outcomes are different)\n",
    "            if None:\n",
    "                # Count the pair if it's permissible\n",
    "                None\n",
    "\n",
    "                # For permissible pairs, check if they are concordant or are ties\n",
    "\n",
    "                # check for ties in the score\n",
    "                if None:\n",
    "                    # count the tie\n",
    "                    None\n",
    "                    # if it's a tie, we don't need to check patient outcomes, continue to the top of the for loop.\n",
    "                    continue\n",
    "\n",
    "                # case 1: patient i doesn't get the disease, patient j does\n",
    "                if y_true[i] == None and y_true[j] == None:\n",
    "                    # Check if patient i has a lower risk score than patient j\n",
    "                    if None:\n",
    "                        # count the concordant pair\n",
    "                        None\n",
    "                    # Otherwise if patient i has a higher risk score, it's not a concordant pair.\n",
    "                    # Already checked for ties earlier\n",
    "\n",
    "                # case 2: patient i gets the disease, patient j does not\n",
    "                if None and None == 0:\n",
    "                    # Check if patient i has a higher risk score than patient j\n",
    "                    if None:\n",
    "                        #count the concordant pair\n",
    "                        None\n",
    "                    # Otherwise if patient i has a lower risk score, it's not a concordant pair.\n",
    "                    # We already checked for ties earlier\n",
    "\n",
    "    # calculate the c-index using the count of permissible pairs, concordant pairs, and tied pairs.\n",
    "    c_index = None\n",
    "    ### END CODE HERE ###\n",
    "    \n",
    "    return c_index"
   ]
  },
  {
   "cell_type": "markdown",
   "metadata": {
    "colab_type": "text",
    "id": "b5l0kdOkUO_Y"
   },
   "source": [
    "#### Test Your Work\n",
    "\n",
    "You can use the following test cases to make sure your implementation is correct."
   ]
  },
  {
   "cell_type": "code",
   "execution_count": null,
   "metadata": {
    "colab": {
     "base_uri": "https://localhost:8080/",
     "height": 68
    },
    "colab_type": "code",
    "id": "CzmPPfVQN8ET",
    "outputId": "6e4af0e8-1666-4704-f83a-a27b90ce7103"
   },
   "outputs": [],
   "source": [
    "# test\n",
    "y_true = np.array([1.0, 0.0, 0.0, 1.0])\n",
    "\n",
    "# Case 1\n",
    "scores = np.array([0, 1, 1, 0])\n",
    "print('Case 1 Output: {}'.format(cindex(y_true, scores)))\n",
    "\n",
    "# Case 2\n",
    "scores = np.array([1, 0, 0, 1])\n",
    "print('Case 2 Output: {}'.format(cindex(y_true, scores)))\n",
    "\n",
    "# Case 3\n",
    "scores = np.array([0.5, 0.5, 0.0, 1.0])\n",
    "print('Case 3 Output: {}'.format(cindex(y_true, scores)))\n",
    "cindex(y_true, scores)"
   ]
  },
  {
   "cell_type": "markdown",
   "metadata": {
    "colab_type": "text",
    "id": "qHKVO2ipyXoA"
   },
   "source": [
    "#### Expected Output:\n",
    "\n",
    "```CPP\n",
    "Case 1 Output: 0.0\n",
    "Case 2 Output: 1.0\n",
    "Case 3 Output: 0.875\n",
    "```"
   ]
  },
  {
   "cell_type": "markdown",
   "metadata": {},
   "source": [
    "#### Note\n",
    "Please check your implementation of the for loops. \n",
    "- There is way to make a mistake on the for loops that cannot be caught with unit tests.\n",
    "- Bonus: Can you think of what this error could be, and why it can't be caught by unit tests?"
   ]
  },
  {
   "cell_type": "markdown",
   "metadata": {
    "colab_type": "text",
    "id": "GOEaZigmOPVF"
   },
   "source": [
    "<a name='7'></a>\n",
    "## 7. Evaluate the Model on the Test Set\n",
    "\n",
    "Now, you can evaluate your trained model on the test set.  \n",
    "\n",
    "To get the predicted probabilities, we use the `predict_proba` method. This method will return the result from the model *before* it is converted to a binary 0 or 1. For each input case, it returns an array of two values which represent the probabilities for both the negative case (patient does not get the disease) and positive case (patient the gets the disease). "
   ]
  },
  {
   "cell_type": "code",
   "execution_count": null,
   "metadata": {
    "colab": {
     "base_uri": "https://localhost:8080/",
     "height": 34
    },
    "colab_type": "code",
    "id": "_J5TbdH_LSjB",
    "outputId": "e5b8802a-8c41-4f7f-e3ba-428c6cfb5f87"
   },
   "outputs": [],
   "source": [
    "scores = model_X.predict_proba(X_test)[:, 1]\n",
    "c_index_X_test = cindex(y_test.values, scores)\n",
    "print(f\"c-index on test set is {c_index_X_test:.4f}\")"
   ]
  },
  {
   "cell_type": "markdown",
   "metadata": {
    "colab_type": "text",
    "id": "8Iy7rIiyyXoD"
   },
   "source": [
    "#### Expected output:\n",
    "```CPP\n",
    "c-index on test set is 0.8336\n",
    "```"
   ]
  },
  {
   "cell_type": "markdown",
   "metadata": {
    "colab_type": "text",
    "id": "-BC_HAM6MXWU"
   },
   "source": [
    "Let's plot the coefficients to see which variables (patient features) are having the most effect. You can access the model coefficients by using `model.coef_`"
   ]
  },
  {
   "cell_type": "code",
   "execution_count": null,
   "metadata": {
    "colab": {
     "base_uri": "https://localhost:8080/",
     "height": 316
    },
    "colab_type": "code",
    "id": "lZeo6AJbMdCq",
    "outputId": "613b4ce8-2d04-40b1-e2ce-d2232a62005f"
   },
   "outputs": [],
   "source": [
    "coeffs = pd.DataFrame(data = model_X.coef_, columns = X_train.columns)\n",
    "coeffs.T.plot.bar(legend=None);"
   ]
  },
  {
   "cell_type": "markdown",
   "metadata": {},
   "source": [
    "### Question: \n",
    "> __Which three variables have the largest impact on the model's predictions?__"
   ]
  },
  {
   "cell_type": "markdown",
   "metadata": {
    "colab_type": "text",
    "id": "7KbLT-zkNgLT"
   },
   "source": [
    "<a name='8'></a>\n",
    "## 8. Improve the Model\n",
    "\n",
    "You can try to improve your model by including interaction terms. \n",
    "* An interaction term is the product of two variables. \n",
    "    * For example, if we have data \n",
    "    $$ x = [x_1, x_2]$$\n",
    "    * We could add the product so that:\n",
    "    $$ \\hat{x} = [x_1, x_2, x_1*x_2]$$\n",
    "    "
   ]
  },
  {
   "cell_type": "markdown",
   "metadata": {},
   "source": [
    "<a name='Ex-4'></a>\n",
    "### Exercise 4\n",
    "\n",
    "Write code below to add all interactions between every pair of variables to the training and test datasets. "
   ]
  },
  {
   "cell_type": "code",
   "execution_count": null,
   "metadata": {
    "colab": {},
    "colab_type": "code",
    "id": "biuVl-lGSaJp"
   },
   "outputs": [],
   "source": [
    "# UNQ_C4 (UNIQUE CELL IDENTIFIER, DO NOT EDIT)\n",
    "def add_interactions(X):\n",
    "    \"\"\"\n",
    "    Add interaction terms between columns to dataframe.\n",
    "\n",
    "    Args:\n",
    "    X (dataframe): Original data\n",
    "\n",
    "    Returns:\n",
    "    X_int (dataframe): Original data with interaction terms appended. \n",
    "    \"\"\"\n",
    "    features = X.columns\n",
    "    m = len(features)\n",
    "    X_int = X.copy(deep=True)\n",
    "\n",
    "    ### START CODE HERE (REPLACE INSTANCES OF 'None' with your code) ###\n",
    "    # 'i' loops through all features in the original dataframe X\n",
    "    for i in range(None):\n",
    "        \n",
    "        # get the name of feature 'i'\n",
    "        feature_i_name = None\n",
    "        \n",
    "        # get the data for feature 'i'\n",
    "        feature_i_data = None\n",
    "        \n",
    "        # choose the index of column 'j' to be greater than column i\n",
    "        for j in range(None, None):\n",
    "            \n",
    "            # get the name of feature 'j'\n",
    "            feature_j_name = None\n",
    "            \n",
    "            # get the data for feature j'\n",
    "            feature_j_data = None\n",
    "            \n",
    "            # create the name of the interaction feature by combining both names\n",
    "            # example: \"apple\" and \"orange\" are combined to be \"apple_x_orange\"\n",
    "            feature_i_j_name = None\n",
    "            \n",
    "            # Multiply the data for feature 'i' and feature 'j'\n",
    "            # store the result as a column in dataframe X_int\n",
    "            X_int[feature_i_j_name] = None\n",
    "        \n",
    "    ### END CODE HERE ###\n",
    "\n",
    "    return X_int"
   ]
  },
  {
   "cell_type": "markdown",
   "metadata": {
    "colab_type": "text",
    "id": "qV4rRIdwVJPm"
   },
   "source": [
    "#### Test Your Work\n",
    "\n",
    "Run the cell below to check your implementation. "
   ]
  },
  {
   "cell_type": "code",
   "execution_count": null,
   "metadata": {
    "colab": {
     "base_uri": "https://localhost:8080/",
     "height": 255
    },
    "colab_type": "code",
    "id": "x5Q7eUpBcyLG",
    "outputId": "18722d74-ce4c-4b36-ca29-196b4010ed06"
   },
   "outputs": [],
   "source": [
    "print(\"Original Data\")\n",
    "print(X_train.loc[:, ['Age', 'Systolic_BP']].head())\n",
    "print(\"Data w/ Interactions\")\n",
    "print(add_interactions(X_train.loc[:, ['Age', 'Systolic_BP']].head()))"
   ]
  },
  {
   "cell_type": "markdown",
   "metadata": {},
   "source": [
    "#### Expected Output:\n",
    "```CPP\n",
    "Original Data\n",
    "           Age  Systolic_BP\n",
    "2472 -2.340711     0.077089\n",
    "4496  0.009916    -1.324053\n",
    "2243  0.927302    -0.424337\n",
    "4311 -0.087282     0.399865\n",
    "843   2.204586     0.025521\n",
    "Data w/ Interactions\n",
    "           Age  Systolic_BP  Age_x_Systolic_BP\n",
    "2472 -2.340711     0.077089          -0.180444\n",
    "4496  0.009916    -1.324053          -0.013129\n",
    "2243  0.927302    -0.424337          -0.393489\n",
    "4311 -0.087282     0.399865          -0.034901\n",
    "843   2.204586     0.025521           0.056264\n",
    "```"
   ]
  },
  {
   "cell_type": "markdown",
   "metadata": {
    "colab_type": "text",
    "id": "rKKiFF5Pdwtv"
   },
   "source": [
    "Once you have correctly implemented `add_interactions`, use it to make transformed version of `X_train` and `X_test`."
   ]
  },
  {
   "cell_type": "code",
   "execution_count": null,
   "metadata": {
    "colab": {},
    "colab_type": "code",
    "id": "mYcDf7nsd2nh"
   },
   "outputs": [],
   "source": [
    "X_train_int = add_interactions(X_train)\n",
    "X_test_int = add_interactions(X_test)"
   ]
  },
  {
   "cell_type": "markdown",
   "metadata": {
    "colab_type": "text",
    "id": "Y6IgFZWxLqTa"
   },
   "source": [
    "<a name='9'></a>\n",
    "## 9. Evaluate the Improved Model\n",
    "\n",
    "Now we can train the new and improved version of the model."
   ]
  },
  {
   "cell_type": "code",
   "execution_count": null,
   "metadata": {},
   "outputs": [],
   "source": [
    "model_X_int = lr_model(X_train_int, y_train)"
   ]
  },
  {
   "cell_type": "markdown",
   "metadata": {},
   "source": [
    "Let's evaluate our new model on the test set."
   ]
  },
  {
   "cell_type": "code",
   "execution_count": null,
   "metadata": {
    "colab": {
     "base_uri": "https://localhost:8080/",
     "height": 51
    },
    "colab_type": "code",
    "id": "xn7U6_bEfWKI",
    "outputId": "d43fe99f-e3c0-4575-b44c-93efe24917bb"
   },
   "outputs": [],
   "source": [
    "scores_X = model_X.predict_proba(X_test)[:, 1]\n",
    "c_index_X_int_test = cindex(y_test.values, scores_X)\n",
    "\n",
    "scores_X_int = model_X_int.predict_proba(X_test_int)[:, 1]\n",
    "c_index_X_int_test = cindex(y_test.values, scores_X_int)\n",
    "\n",
    "print(f\"c-index on test set without interactions is {c_index_X_test:.4f}\")\n",
    "print(f\"c-index on test set with interactions is {c_index_X_int_test:.4f}\")"
   ]
  },
  {
   "cell_type": "markdown",
   "metadata": {
    "colab_type": "text",
    "id": "-tYVyw-6jLfV"
   },
   "source": [
    "You should see that the model with interaction terms performs a bit better than the model without interactions.\n",
    "\n",
    "Now let's take another look at the model coefficients to try and see which variables made a difference. Plot the coefficients and report which features seem to be the most important."
   ]
  },
  {
   "cell_type": "code",
   "execution_count": null,
   "metadata": {
    "colab": {
     "base_uri": "https://localhost:8080/",
     "height": 389
    },
    "colab_type": "code",
    "id": "9PpyFFqFjRpW",
    "outputId": "9cc3ce2c-3a8a-4d3a-cf76-bef5862cc6c3"
   },
   "outputs": [],
   "source": [
    "int_coeffs = pd.DataFrame(data = model_X_int.coef_, columns = X_train_int.columns)\n",
    "int_coeffs.T.plot.bar();"
   ]
  },
  {
   "cell_type": "markdown",
   "metadata": {
    "colab_type": "text",
    "id": "1bvx65OqOCUT"
   },
   "source": [
    "### Questions:\n",
    "> __Which variables are most important to the model?__<br>\n",
    "> __Have the relevant variables changed?__<br>\n",
    "> __What does it mean when the coefficients are positive or negative?__<br>\n",
    "\n",
    "You may notice that Age, Systolic_BP, and Cholesterol have a positive coefficient. This means that a higher value in these three features leads to a higher prediction probability for the disease. You also may notice that the interaction of Age x Cholesterol has a negative coefficient. This means that a higher value for the Age x Cholesterol product reduces the prediction probability for the disease.\n",
    "\n",
    "To understand the effect of interaction terms, let's compare the output of the model we've trained on sample cases with and without the interaction. Run the cell below to choose an index and look at the features corresponding to that case in the training set. "
   ]
  },
  {
   "cell_type": "code",
   "execution_count": null,
   "metadata": {
    "colab": {
     "base_uri": "https://localhost:8080/",
     "height": 204
    },
    "colab_type": "code",
    "id": "Xj8v7ZxSShC7",
    "outputId": "0d80937f-7645-4e68-eafa-766b228ed981"
   },
   "outputs": [],
   "source": [
    "index = index = 3432\n",
    "case = X_train_int.iloc[index, :]\n",
    "print(case)"
   ]
  },
  {
   "cell_type": "markdown",
   "metadata": {
    "colab_type": "text",
    "id": "0LbyZ8a39hSw"
   },
   "source": [
    "We can see that they have above average Age and Cholesterol. We can now see what our original model would have output by zero-ing out the value for Cholesterol and Age."
   ]
  },
  {
   "cell_type": "code",
   "execution_count": null,
   "metadata": {
    "colab": {
     "base_uri": "https://localhost:8080/",
     "height": 204
    },
    "colab_type": "code",
    "id": "2HcpczwN9sB4",
    "outputId": "8570702b-9b8d-4420-a2dc-0913bc4d84f9"
   },
   "outputs": [],
   "source": [
    "new_case = case.copy(deep=True)\n",
    "new_case.loc[\"Age_x_Cholesterol\"] = 0\n",
    "new_case"
   ]
  },
  {
   "cell_type": "code",
   "execution_count": null,
   "metadata": {
    "colab": {
     "base_uri": "https://localhost:8080/",
     "height": 51
    },
    "colab_type": "code",
    "id": "iasI8KMLmcPO",
    "outputId": "5c7d8884-ae10-4453-9717-d4818d45f0d7"
   },
   "outputs": [],
   "source": [
    "print(f\"Output with interaction: \\t{model_X_int.predict_proba([case.values])[:, 1][0]:.4f}\")\n",
    "print(f\"Output without interaction: \\t{model_X_int.predict_proba([new_case.values])[:, 1][0]:.4f}\")"
   ]
  },
  {
   "cell_type": "markdown",
   "metadata": {},
   "source": [
    "#### Expected output\n",
    "```CPP\n",
    "Output with interaction: 0.9448\n",
    "Output without interaction: 0.9965\n",
    "```"
   ]
  },
  {
   "cell_type": "markdown",
   "metadata": {
    "colab_type": "text",
    "id": "rdYQijiWnhyZ"
   },
   "source": [
    "We see that the model is less confident in its prediction with the interaction term than without (the prediction value is lower when including the interaction term). With the interaction term, the model has adjusted for the fact that the effect of high cholesterol becomes less important for older patients compared to younger patients."
   ]
  },
  {
   "cell_type": "markdown",
   "metadata": {
    "colab_type": "text",
    "id": "zY6_1iIeajok"
   },
   "source": [
    "# Congratulations! \n",
    "\n",
    "You have finished the first assignment of Course 2. "
   ]
  }
 ],
 "metadata": {
  "colab": {
   "collapsed_sections": [],
   "include_colab_link": true,
   "name": "C2M1_Assignment.ipynb",
   "provenance": [],
   "toc_visible": true
  },
  "coursera": {
   "schema_names": [
    "AI4MC2-1"
   ]
  },
  "kernelspec": {
   "display_name": "Python 3",
   "language": "python",
   "name": "python3"
  },
  "language_info": {
   "codemirror_mode": {
    "name": "ipython",
    "version": 3
   },
   "file_extension": ".py",
   "mimetype": "text/x-python",
   "name": "python",
   "nbconvert_exporter": "python",
   "pygments_lexer": "ipython3",
   "version": "3.7.6"
  }
 },
 "nbformat": 4,
 "nbformat_minor": 4
}
