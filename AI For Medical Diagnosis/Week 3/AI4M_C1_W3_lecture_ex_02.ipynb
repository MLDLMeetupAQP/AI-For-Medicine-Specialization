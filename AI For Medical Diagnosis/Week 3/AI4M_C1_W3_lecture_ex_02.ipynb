{
  "nbformat": 4,
  "nbformat_minor": 0,
  "metadata": {
    "kernelspec": {
      "display_name": "Python 3",
      "language": "python",
      "name": "python3"
    },
    "language_info": {
      "codemirror_mode": {
        "name": "ipython",
        "version": 3
      },
      "file_extension": ".py",
      "mimetype": "text/x-python",
      "name": "python",
      "nbconvert_exporter": "python",
      "pygments_lexer": "ipython3",
      "version": "3.6.3"
    },
    "colab": {
      "name": "AI4M_C1_W3_lecture_ex_02.ipynb",
      "provenance": []
    }
  },
  "cells": [
    {
      "cell_type": "markdown",
      "metadata": {
        "id": "Z7eP5PGGPHnN",
        "colab_type": "text"
      },
      "source": [
        "# AI4M Course 1 week 3 lecture notebook"
      ]
    },
    {
      "cell_type": "markdown",
      "metadata": {
        "id": "T7Ej6b62PHnS",
        "colab_type": "text"
      },
      "source": [
        "# Extract a sub-section\n",
        "\n",
        "In the assignment you will be extracting sub-sections of the MRI data to train your network. The reason for this is that training on a full MRI scan would be too memory intensive to be practical. To extract a sub-section in the assignment, you will need to write a function to isolate a small \"cube\" of the data for training. This example is meant to show you how to do such an extraction for 1D arrays. In the assignment you will apply the same logic in 3D."
      ]
    },
    {
      "cell_type": "code",
      "metadata": {
        "id": "a3v-88q6PHnZ",
        "colab_type": "code",
        "colab": {}
      },
      "source": [
        "import numpy as np"
      ],
      "execution_count": 0,
      "outputs": []
    },
    {
      "cell_type": "code",
      "metadata": {
        "id": "W9dovtE6PHnz",
        "colab_type": "code",
        "colab": {}
      },
      "source": [
        "# Define a simple one dimensional \"image\" to extract from\n",
        "image = np.array([10,11,12,13,14,15])\n",
        "image"
      ],
      "execution_count": 0,
      "outputs": []
    },
    {
      "cell_type": "code",
      "metadata": {
        "id": "IsOLbHVtPHoE",
        "colab_type": "code",
        "colab": {}
      },
      "source": [
        "# Compute the dimensions of your \"image\"\n",
        "image_length = image.shape[0]\n",
        "image_length"
      ],
      "execution_count": 0,
      "outputs": []
    },
    {
      "cell_type": "markdown",
      "metadata": {
        "id": "aUDnWE0jPHoX",
        "colab_type": "text"
      },
      "source": [
        "### Sub-sections\n",
        "In the assignment, you will define a \"patch size\" in three dimensions, that will be the size of the sub-section you want to extract. For this exercise, you only need to define a patch size in one dimension."
      ]
    },
    {
      "cell_type": "code",
      "metadata": {
        "id": "pId4emHePHob",
        "colab_type": "code",
        "colab": {}
      },
      "source": [
        "# Define a patch length, which will be the size of your extracted sub-section\n",
        "patch_length = 3"
      ],
      "execution_count": 0,
      "outputs": []
    },
    {
      "cell_type": "markdown",
      "metadata": {
        "id": "fxmR5P8IPHox",
        "colab_type": "text"
      },
      "source": [
        "To extract a patch of length `patch_length` you will first define an index at which to start the patch.\n",
        "\n",
        "Run the next cell to define your start index"
      ]
    },
    {
      "cell_type": "code",
      "metadata": {
        "id": "PSFMDUY2PHo0",
        "colab_type": "code",
        "colab": {}
      },
      "source": [
        "# Define your start index\n",
        "start_i = 0"
      ],
      "execution_count": 0,
      "outputs": []
    },
    {
      "cell_type": "markdown",
      "metadata": {
        "id": "uV2hrek8PHpE",
        "colab_type": "text"
      },
      "source": [
        "At the end of the next cell you are adding 1 to the start index. Run cell a few times to extract some one dimensional sub-sections from your \"image\"\n",
        "\n",
        "What happens when you run into the edge of the image (when `start_index` is > 3)?"
      ]
    },
    {
      "cell_type": "code",
      "metadata": {
        "id": "RK6DTa-bPHpH",
        "colab_type": "code",
        "colab": {}
      },
      "source": [
        "# Define an end index given your start index and patch size\n",
        "print(f\"start index {start_i}\")\n",
        "end_i = start_i + patch_length\n",
        "print(f\"end index {end_i}\")\n",
        "# Extract a sub-section from your \"image\"\n",
        "sub_section = image[start_i: end_i]\n",
        "print(sub_section)\n",
        "# Add one to your start index\n",
        "start_i +=1"
      ],
      "execution_count": 0,
      "outputs": []
    },
    {
      "cell_type": "markdown",
      "metadata": {
        "id": "qN5pfs59PHpX",
        "colab_type": "text"
      },
      "source": [
        "You'll notice when you run the above multiple times, that eventually the sub-section returned is no longer of length `patch_length`. \n",
        "\n",
        "In the assignment, your neural network will be expecting a particular sub-section size and will not accept inputs of other dimensions. For the start indices, you will be randomly choosing values and you need to ensure that your random number generator is set up to avoid the edges of your image object.\n",
        "\n",
        "The next few code cells include a demonstration of how you could determine the constraints on your start index for the simple one dimensional example."
      ]
    },
    {
      "cell_type": "code",
      "metadata": {
        "id": "yk0JaLj6PHpY",
        "colab_type": "code",
        "colab": {}
      },
      "source": [
        "# Set your start index to 3 to extract a valid patch\n",
        "start_i = 3\n",
        "print(f\"start index {start_i}\")\n",
        "end_i = start_i + patch_length\n",
        "print(f\"end index {end_i}\")\n",
        "sub_section = image[start_i: end_i]\n",
        "print(sub_section)"
      ],
      "execution_count": 0,
      "outputs": []
    },
    {
      "cell_type": "code",
      "metadata": {
        "id": "TcpFjo0VPHph",
        "colab_type": "code",
        "colab": {}
      },
      "source": [
        "# Compute and print the largest valid value for start index\n",
        "print(f\"The largest start index for which \"\n",
        "      f\"a sub section is still valid is \"\n",
        "      f\"{image_length - patch_length}\")"
      ],
      "execution_count": 0,
      "outputs": []
    },
    {
      "cell_type": "code",
      "metadata": {
        "id": "WgDHcriWPHpt",
        "colab_type": "code",
        "colab": {}
      },
      "source": [
        "# Compute and print the range of valid start indices\n",
        "print(f\"The range of valid start indices is:\")\n",
        "# Compute valid start indices, note the range() function excludes the upper bound\n",
        "valid_start_i = [i for i in range(image_length - patch_length + 1)]\n",
        "print(valid_start_i)"
      ],
      "execution_count": 0,
      "outputs": []
    },
    {
      "cell_type": "markdown",
      "metadata": {
        "id": "slHQI4QNPHp4",
        "colab_type": "text"
      },
      "source": [
        "### Random selection of start indices\n",
        "In the assignment, you will need to randomly select a valid integer for the start index in each of three dimensions. The way to do this is by following the logic above to identify valid start indices and then selecting randomly from that range of valid numbers.\n",
        "\n",
        "Run the next cell to select a valid start index for the one dimensional example"
      ]
    },
    {
      "cell_type": "code",
      "metadata": {
        "id": "9txW6vHQPHp5",
        "colab_type": "code",
        "colab": {}
      },
      "source": [
        "# Choose a random start index, note the np.random.randint() function excludes the upper bound.\n",
        "start_i = np.random.randint(image_length - patch_length + 1)\n",
        "print(f\"randomly selected start index {start_i}\")"
      ],
      "execution_count": 0,
      "outputs": []
    },
    {
      "cell_type": "code",
      "metadata": {
        "id": "5TBj4W2_PHqJ",
        "colab_type": "code",
        "colab": {}
      },
      "source": [
        "# Randomly select multiple start indices in a loop\n",
        "for _ in range(10):\n",
        "    start_i = np.random.randint(image_length - patch_length + 1)\n",
        "    print(f\"randomly selected start index {start_i}\")"
      ],
      "execution_count": 0,
      "outputs": []
    },
    {
      "cell_type": "markdown",
      "metadata": {
        "id": "Dncv_PgPPHqf",
        "colab_type": "text"
      },
      "source": [
        "#### That's all for this lab, now you have the basic tools you need for sub-section extraction in this week's graded assignment!"
      ]
    }
  ]
}